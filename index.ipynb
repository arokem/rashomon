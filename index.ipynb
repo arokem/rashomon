{
 "cells": [
  {
   "cell_type": "markdown",
   "metadata": {},
   "source": [
    "Rashomon effects in the interpretation of diffusion MRI data. \n",
    "\n",
    "In the paper [\"The two cultures of statistical modeling\"](http://projecteuclid.org/download/pdf_1/euclid.ss/1009213726), Leo Breiman notes that there are situations. We observe that there are some interesting examples of this in diffusion MRI. Sometimes models of the diffusion signal can be easily discriminated based on their fit to the signal (see [Pestilli et al. 2014](http://arokem.org/publications/papers/Pestilli2014LiFE.pdf), and [Rokem et al. 2015](http://www.plosone.org/article/fetchObject.action?uri=info:doi/10.1371/journal.pone.0123272&representation=PDF)). However, there are some important and interesting examples where this is not the case. We'll collect some examples here:\n",
    "\n",
    "1. Models of isotropic diffusion - [exponential-diffusion](exponential-diffusion)\n"
   ]
  }
 ],
 "metadata": {
  "kernelspec": {
   "display_name": "Python 2",
   "language": "python",
   "name": "python2"
  },
  "language_info": {
   "codemirror_mode": {
    "name": "ipython",
    "version": 2
   },
   "file_extension": ".py",
   "mimetype": "text/x-python",
   "name": "python",
   "nbconvert_exporter": "python",
   "pygments_lexer": "ipython2",
   "version": "2.7.10"
  }
 },
 "nbformat": 4,
 "nbformat_minor": 0
}
