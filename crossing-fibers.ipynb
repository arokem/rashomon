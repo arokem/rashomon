{
 "cells": [
  {
   "cell_type": "markdown",
   "metadata": {},
   "source": [
    "### In what proportion of the brain can we confidently say that there are multiple populations of crossing fibers?"
   ]
  },
  {
   "cell_type": "code",
   "execution_count": 1,
   "metadata": {
    "collapsed": true
   },
   "outputs": [],
   "source": [
    "import numpy as np\n",
    "import matplotlib.pyplot as plt\n",
    "import matplotlib.cm as cm\n",
    "%matplotlib inline\n",
    "import seaborn as sns\n",
    "sns.set()"
   ]
  },
  {
   "cell_type": "code",
   "execution_count": 2,
   "metadata": {
    "collapsed": true
   },
   "outputs": [],
   "source": [
    "import nibabel as nib\n",
    "import dipy.data as dpd\n",
    "import dipy.core.gradients as dpg\n",
    "import dipy.reconst.cross_validation as xval"
   ]
  },
  {
   "cell_type": "code",
   "execution_count": 3,
   "metadata": {
    "collapsed": false
   },
   "outputs": [],
   "source": [
    "import urllib as url\n",
    "import os.path as op\n",
    "\n",
    "top_url = 'https://stacks.stanford.edu/file/druid:ng782rw8378/'\n",
    "for b in [1000, 2000, 4000]:\n",
    "    for ext in ['.nii.gz', '.bvecs', '.bvals']:\n",
    "        fname = 'SUB1_b%s_1%s'%(b, ext)\n",
    "        if not op.exists('./data/' + fname):\n",
    "            url.urlretrieve(op.join(top_url, fname), './data/' + fname)"
   ]
  },
  {
   "cell_type": "code",
   "execution_count": 4,
   "metadata": {
    "collapsed": false
   },
   "outputs": [
    {
     "name": "stdout",
     "output_type": "stream",
     "text": [
      "Dataset is already in place. If you want to fetch it again please first remove the folder /Users/arokem/.dipy/stanford_hardi \n",
      "All files already in /Users/arokem/.dipy/stanford_hardi.\n",
      "All files already in /Users/arokem/.dipy/stanford_hardi.\n"
     ]
    }
   ],
   "source": [
    "hardi_img, gtab, labels_img = dpd.read_stanford_labels()\n",
    "labels = labels_img.get_data()\n",
    "t1 = dpd.read_stanford_t1()\n",
    "t1_data = t1.get_data()"
   ]
  },
  {
   "cell_type": "code",
   "execution_count": 5,
   "metadata": {
    "collapsed": true
   },
   "outputs": [],
   "source": [
    "white_matter = (labels == 1) | (labels == 2)"
   ]
  },
  {
   "cell_type": "code",
   "execution_count": 6,
   "metadata": {
    "collapsed": false
   },
   "outputs": [],
   "source": [
    "import dipy.reconst.csdeconv as csd\n",
    "import dipy.reconst.dti as dti\n",
    "import dipy.reconst.dki as dki"
   ]
  },
  {
   "cell_type": "code",
   "execution_count": 7,
   "metadata": {
    "collapsed": false
   },
   "outputs": [],
   "source": [
    "data = {}\n",
    "gtab = {}\n",
    "for b in [1000, 2000, 4000]:\n",
    "    data[b] = nib.load(op.join('data', 'SUB1_b%s_1.nii.gz'%b)).get_data()\n",
    "    gtab[b] = dpg.gradient_table(op.join('./data', 'SUB1_b%s_1.bvals'%b),\n",
    "                                 op.join('./data', 'SUB1_b%s_1.bvecs'%b))"
   ]
  },
  {
   "cell_type": "markdown",
   "metadata": {},
   "source": [
    "### Compare models\n",
    "\n",
    "We set up a function to fit the models using k-fold cross-validation, and calculate goodness-of-fit as the coefficient of determination."
   ]
  },
  {
   "cell_type": "code",
   "execution_count": null,
   "metadata": {
    "collapsed": true
   },
   "outputs": [],
   "source": [
    "def compare_models(gtab, data, mask, folds=2):\n",
    "    # CSD model setup (requires calculation of a response function. We'll do that automatically first)\n",
    "    response, ratio = csd.auto_response(gtab, data, roi_radius=10, fa_thr=0.7)\n",
    "    csd_model = csd.ConstrainedSphericalDeconvModel(gtab, response)\n",
    "    # DTI model setup:\n",
    "    dti_model = dti.TensorModel(gtab)\n",
    "    # Predict with k-fold CV:\n",
    "    csd_pred = xval.kfold_xval(csd_model, data, folds, response, mask=mask)\n",
    "    dti_pred = xval.kfold_xval(dti_model, data, folds, mask=mask)\n",
    "    # Calculate coefficient of determination\n",
    "    cod_csd = xval.coeff_of_determination(csd_pred, data)\n",
    "    cod_dti = xval.coeff_of_determination(dti_pred, data)\n",
    "    return cod_csd, cod_dti"
   ]
  },
  {
   "cell_type": "code",
   "execution_count": null,
   "metadata": {
    "collapsed": false
   },
   "outputs": [],
   "source": [
    "dti_results = {}\n",
    "csd_results = {}\n",
    "for bval in [1000, 2000, 4000]:\n",
    "    this_data = data[bval]\n",
    "    this_gtab = gtab[bval]\n",
    "    cod_csd, cod_dti = compare_models(this_gtab, this_data, white_matter)\n",
    "    dti_results[bval] = cod_dti\n",
    "    csd_results[bval] = cod_csd"
   ]
  },
  {
   "cell_type": "markdown",
   "metadata": {},
   "source": [
    "### Visualize: \n",
    "\n",
    "We can visualize this comparison several different ways. The first is to compare the distributions of goodness of fit over the entire white matter"
   ]
  },
  {
   "cell_type": "code",
   "execution_count": null,
   "metadata": {
    "collapsed": true
   },
   "outputs": [],
   "source": [
    "for bval in [1000, 2000, 4000]:\n",
    "    this_csd = csd[bval]\n",
    "    this_dti = dti[bval]\n",
    "    idx = (csd > -50) * (cod_dti > -50)\n",
    "    fig, ax = plt.subplots()\n",
    "    ax.hist(this_csd[idx], color='g', histtype='step', linewidth=5, bins=100, label='CSD')\n",
    "    ax.hist(this_dti[idx], color='b', histtype='step', linewidth=5, bins=100, label='DTI')\n",
    "    ax.set_xlabel('$R^2$')\n",
    "    ax.set_ylabel('# Voxels')\n",
    "    plt.legend(loc='upper left')\n",
    "    ax.title('b = %s $s/mm^2$'%bval)"
   ]
  },
  {
   "cell_type": "code",
   "execution_count": null,
   "metadata": {
    "collapsed": true
   },
   "outputs": [],
   "source": []
  }
 ],
 "metadata": {
  "kernelspec": {
   "display_name": "Python 2",
   "language": "python",
   "name": "python2"
  },
  "language_info": {
   "codemirror_mode": {
    "name": "ipython",
    "version": 2
   },
   "file_extension": ".py",
   "mimetype": "text/x-python",
   "name": "python",
   "nbconvert_exporter": "python",
   "pygments_lexer": "ipython2",
   "version": "2.7.10"
  }
 },
 "nbformat": 4,
 "nbformat_minor": 0
}
